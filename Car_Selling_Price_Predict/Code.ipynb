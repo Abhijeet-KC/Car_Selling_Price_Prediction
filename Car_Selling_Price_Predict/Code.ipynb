{
 "cells": [
  {
   "cell_type": "markdown",
   "id": "5b9cbfb2",
   "metadata": {},
   "source": [
    "## Car Selling Price Prediction\n"
   ]
  },
  {
   "cell_type": "code",
   "execution_count": null,
   "id": "2aa00409",
   "metadata": {},
   "outputs": [],
   "source": [
    "#installing necessary libraries\n",
    "import numpy as np\n",
    "import pandas as pd\n",
    "from sklearn.model_selection import train_test_split\n",
    "from sklearn.preprocessing import StandardScaler\n",
    "from sklearn.linear_model import LinearRegression\n",
    "from sklearn.impute import SimpleImputer\n",
    "from sklearn.pipeline import make_pipeline\n",
    "from sklearn.metrics import mean_squared_error  \n",
    "from sklearn.metrics import r2_score\n",
    "from sklearn.metrics import f1_score\n",
    "from sklearn.metrics import mean_absolute_error\n",
    "import xgboost as xgb\n",
    "import lightgbm as lgb\n",
    "import matplotlib.pyplot as plt\n",
    "%matplotlib inline"
   ]
  },
  {
   "cell_type": "code",
   "execution_count": 2,
   "id": "3c45fcb9",
   "metadata": {},
   "outputs": [],
   "source": [
    "## Data Collection and Preprocessing\n",
    "car_dataset = pd.read_csv('car.csv')"
   ]
  },
  {
   "cell_type": "code",
   "execution_count": 3,
   "id": "d2803320",
   "metadata": {},
   "outputs": [],
   "source": [
    "X = car_dataset.drop('selling_price', axis=1).copy()\n",
    "y = car_dataset['selling_price']"
   ]
  },
  {
   "cell_type": "code",
   "execution_count": 4,
   "id": "378a0960",
   "metadata": {},
   "outputs": [
    {
     "name": "stdout",
     "output_type": "stream",
     "text": [
      "(8128, 12)\n"
     ]
    },
    {
     "data": {
      "text/html": [
       "<div>\n",
       "<style scoped>\n",
       "    .dataframe tbody tr th:only-of-type {\n",
       "        vertical-align: middle;\n",
       "    }\n",
       "\n",
       "    .dataframe tbody tr th {\n",
       "        vertical-align: top;\n",
       "    }\n",
       "\n",
       "    .dataframe thead th {\n",
       "        text-align: right;\n",
       "    }\n",
       "</style>\n",
       "<table border=\"1\" class=\"dataframe\">\n",
       "  <thead>\n",
       "    <tr style=\"text-align: right;\">\n",
       "      <th></th>\n",
       "      <th>name</th>\n",
       "      <th>year</th>\n",
       "      <th>selling_price</th>\n",
       "      <th>km_driven</th>\n",
       "      <th>fuel</th>\n",
       "      <th>seller_type</th>\n",
       "      <th>transmission</th>\n",
       "      <th>owner</th>\n",
       "      <th>mileage(km/ltr/kg)</th>\n",
       "      <th>engine</th>\n",
       "      <th>max_power</th>\n",
       "      <th>seats</th>\n",
       "    </tr>\n",
       "  </thead>\n",
       "  <tbody>\n",
       "    <tr>\n",
       "      <th>0</th>\n",
       "      <td>Maruti Swift Dzire VDI</td>\n",
       "      <td>2014</td>\n",
       "      <td>450000</td>\n",
       "      <td>145500</td>\n",
       "      <td>Diesel</td>\n",
       "      <td>Individual</td>\n",
       "      <td>Manual</td>\n",
       "      <td>First Owner</td>\n",
       "      <td>23.40</td>\n",
       "      <td>1248.0</td>\n",
       "      <td>74</td>\n",
       "      <td>5.0</td>\n",
       "    </tr>\n",
       "    <tr>\n",
       "      <th>1</th>\n",
       "      <td>Skoda Rapid 1.5 TDI Ambition</td>\n",
       "      <td>2014</td>\n",
       "      <td>370000</td>\n",
       "      <td>120000</td>\n",
       "      <td>Diesel</td>\n",
       "      <td>Individual</td>\n",
       "      <td>Manual</td>\n",
       "      <td>Second Owner</td>\n",
       "      <td>21.14</td>\n",
       "      <td>1498.0</td>\n",
       "      <td>103.52</td>\n",
       "      <td>5.0</td>\n",
       "    </tr>\n",
       "    <tr>\n",
       "      <th>2</th>\n",
       "      <td>Honda City 2017-2020 EXi</td>\n",
       "      <td>2006</td>\n",
       "      <td>158000</td>\n",
       "      <td>140000</td>\n",
       "      <td>Petrol</td>\n",
       "      <td>Individual</td>\n",
       "      <td>Manual</td>\n",
       "      <td>Third Owner</td>\n",
       "      <td>17.70</td>\n",
       "      <td>1497.0</td>\n",
       "      <td>78</td>\n",
       "      <td>5.0</td>\n",
       "    </tr>\n",
       "    <tr>\n",
       "      <th>3</th>\n",
       "      <td>Hyundai i20 Sportz Diesel</td>\n",
       "      <td>2010</td>\n",
       "      <td>225000</td>\n",
       "      <td>127000</td>\n",
       "      <td>Diesel</td>\n",
       "      <td>Individual</td>\n",
       "      <td>Manual</td>\n",
       "      <td>First Owner</td>\n",
       "      <td>23.00</td>\n",
       "      <td>1396.0</td>\n",
       "      <td>90</td>\n",
       "      <td>5.0</td>\n",
       "    </tr>\n",
       "    <tr>\n",
       "      <th>4</th>\n",
       "      <td>Maruti Swift VXI BSIII</td>\n",
       "      <td>2007</td>\n",
       "      <td>130000</td>\n",
       "      <td>120000</td>\n",
       "      <td>Petrol</td>\n",
       "      <td>Individual</td>\n",
       "      <td>Manual</td>\n",
       "      <td>First Owner</td>\n",
       "      <td>16.10</td>\n",
       "      <td>1298.0</td>\n",
       "      <td>88.2</td>\n",
       "      <td>5.0</td>\n",
       "    </tr>\n",
       "  </tbody>\n",
       "</table>\n",
       "</div>"
      ],
      "text/plain": [
       "                           name  year  selling_price  km_driven    fuel  \\\n",
       "0        Maruti Swift Dzire VDI  2014         450000     145500  Diesel   \n",
       "1  Skoda Rapid 1.5 TDI Ambition  2014         370000     120000  Diesel   \n",
       "2      Honda City 2017-2020 EXi  2006         158000     140000  Petrol   \n",
       "3     Hyundai i20 Sportz Diesel  2010         225000     127000  Diesel   \n",
       "4        Maruti Swift VXI BSIII  2007         130000     120000  Petrol   \n",
       "\n",
       "  seller_type transmission         owner  mileage(km/ltr/kg)  engine  \\\n",
       "0  Individual       Manual   First Owner               23.40  1248.0   \n",
       "1  Individual       Manual  Second Owner               21.14  1498.0   \n",
       "2  Individual       Manual   Third Owner               17.70  1497.0   \n",
       "3  Individual       Manual   First Owner               23.00  1396.0   \n",
       "4  Individual       Manual   First Owner               16.10  1298.0   \n",
       "\n",
       "  max_power  seats  \n",
       "0        74    5.0  \n",
       "1    103.52    5.0  \n",
       "2        78    5.0  \n",
       "3        90    5.0  \n",
       "4      88.2    5.0  "
      ]
     },
     "execution_count": 4,
     "metadata": {},
     "output_type": "execute_result"
    }
   ],
   "source": [
    "#inspecting the dataset\n",
    "print(car_dataset.shape)\n",
    "car_dataset.head()"
   ]
  },
  {
   "cell_type": "code",
   "execution_count": 8,
   "id": "07d0ed31",
   "metadata": {},
   "outputs": [],
   "source": [
    "# Remove rows with missing target values\n",
    "X = X[y.notnull()]\n",
    "y = y[y.notnull()]\n",
    "\n",
    "X_train, X_val, y_train, y_val = train_test_split(X, y, test_size=0.2, random_state=0)\n",
    "\n",
    "X_train, y_train = X_train.loc[~X_train.duplicated()], y_train.loc[~X_train.duplicated()]\n",
    "X_val, y_val = X_val.loc[~X_val.duplicated()], y_val.loc[~X_val.duplicated()]"
   ]
  },
  {
   "cell_type": "code",
   "execution_count": 9,
   "id": "6c82c562",
   "metadata": {},
   "outputs": [],
   "source": [
    "# Identify numeric and categorical columns from X_train\n",
    "num_cols = X_train.select_dtypes(include=['int64', 'float64']).columns\n",
    "cat_cols = X_train.select_dtypes(include=['object', 'category']).columns\n",
    "\n",
    "# Impute numeric on X_train and transform X_val\n",
    "num_imputer = SimpleImputer(strategy='mean')\n",
    "X_train[num_cols] = pd.DataFrame(\n",
    "    num_imputer.fit_transform(X_train[num_cols]),\n",
    "    columns=num_cols,\n",
    "    index=X_train.index\n",
    ")\n",
    "X_val[num_cols] = pd.DataFrame(\n",
    "    num_imputer.transform(X_val[num_cols]),\n",
    "    columns=num_cols,\n",
    "    index=X_val.index\n",
    ")\n",
    "\n",
    "# Impute categorical on X_train and transform X_val\n",
    "cat_imputer = SimpleImputer(strategy='most_frequent')\n",
    "X_train[cat_cols] = pd.DataFrame(\n",
    "    cat_imputer.fit_transform(X_train[cat_cols]),\n",
    "    columns=cat_cols,\n",
    "    index=X_train.index\n",
    ")\n",
    "X_val[cat_cols] = pd.DataFrame(\n",
    "    cat_imputer.transform(X_val[cat_cols]),\n",
    "    columns=cat_cols,\n",
    "    index=X_val.index\n",
    ")"
   ]
  },
  {
   "cell_type": "code",
   "execution_count": 10,
   "id": "306210bf",
   "metadata": {},
   "outputs": [
    {
     "name": "stdout",
     "output_type": "stream",
     "text": [
      "Duplicate rows in X_train: 0\n",
      "Duplicate rows in X_val: 0\n"
     ]
    }
   ],
   "source": [
    "print(\"Duplicate rows in X_train:\", X_train.duplicated().sum())\n",
    "print(\"Duplicate rows in X_val:\", X_val.duplicated().sum())\n"
   ]
  },
  {
   "cell_type": "code",
   "execution_count": 16,
   "id": "d1324b8a",
   "metadata": {},
   "outputs": [
    {
     "name": "stdout",
     "output_type": "stream",
     "text": [
      "<class 'pandas.core.frame.DataFrame'>\n",
      "Index: 5506 entries, 3042 to 2732\n",
      "Data columns (total 11 columns):\n",
      " #   Column              Non-Null Count  Dtype  \n",
      "---  ------              --------------  -----  \n",
      " 0   name                5506 non-null   object \n",
      " 1   year                5506 non-null   float64\n",
      " 2   km_driven           5506 non-null   float64\n",
      " 3   fuel                5506 non-null   object \n",
      " 4   seller_type         5506 non-null   object \n",
      " 5   transmission        5506 non-null   object \n",
      " 6   owner               5506 non-null   object \n",
      " 7   mileage(km/ltr/kg)  5506 non-null   float64\n",
      " 8   engine              5506 non-null   float64\n",
      " 9   max_power           5506 non-null   object \n",
      " 10  seats               5506 non-null   float64\n",
      "dtypes: float64(5), object(6)\n",
      "memory usage: 516.2+ KB\n",
      "<class 'pandas.core.frame.DataFrame'>\n",
      "Index: 1491 entries, 3558 to 5934\n",
      "Data columns (total 11 columns):\n",
      " #   Column              Non-Null Count  Dtype  \n",
      "---  ------              --------------  -----  \n",
      " 0   name                1491 non-null   object \n",
      " 1   year                1491 non-null   float64\n",
      " 2   km_driven           1491 non-null   float64\n",
      " 3   fuel                1491 non-null   object \n",
      " 4   seller_type         1491 non-null   object \n",
      " 5   transmission        1491 non-null   object \n",
      " 6   owner               1491 non-null   object \n",
      " 7   mileage(km/ltr/kg)  1491 non-null   float64\n",
      " 8   engine              1491 non-null   float64\n",
      " 9   max_power           1491 non-null   object \n",
      " 10  seats               1491 non-null   float64\n",
      "dtypes: float64(5), object(6)\n",
      "memory usage: 139.8+ KB\n"
     ]
    }
   ],
   "source": [
    "X_train.info()\n",
    "X_val.info()"
   ]
  }
 ],
 "metadata": {
  "kernelspec": {
   "display_name": "venv",
   "language": "python",
   "name": "python3"
  },
  "language_info": {
   "codemirror_mode": {
    "name": "ipython",
    "version": 3
   },
   "file_extension": ".py",
   "mimetype": "text/x-python",
   "name": "python",
   "nbconvert_exporter": "python",
   "pygments_lexer": "ipython3",
   "version": "3.11.9"
  }
 },
 "nbformat": 4,
 "nbformat_minor": 5
}
